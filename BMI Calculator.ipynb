{
 "cells": [
  {
   "cell_type": "markdown",
   "id": "4bc5b73a",
   "metadata": {},
   "source": [
    "# BMI Calculator\n",
    "\n",
    "https://mercer-health.com/#:~:text=Body%20Mass%20Index%2C%20or%20BMI,inches%20x%20height%20in%20inches"
   ]
  },
  {
   "cell_type": "code",
   "execution_count": null,
   "id": "a988b35b",
   "metadata": {},
   "outputs": [],
   "source": [
    "name = input(\"Enter your name: \")\n",
    "\n",
    "weight = int(input(\"Enter your weight in pounds: \"))\n",
    "\n",
    "height = int(input(\"Enter your height in inches: \"))\n",
    "\n",
    "BMI = (weight * 703) / (height * height)\n",
    "\n",
    "print(round(BMI,2))\n",
    "\n",
    "if BMI > 0:\n",
    "    if(BMI<18.5):\n",
    "        print(name +\",You are underweight.\")\n",
    "    elif(BMI<=24.9):\n",
    "        print(name +\",You are normal weight.\")\n",
    "    elif(BMI<=29.9):\n",
    "        print(name +\",You are overweight.\")\n",
    "    elif(BMI<=34.9):\n",
    "        print(name +\",You are obese.\")\n",
    "    elif(BMI<=39.9):\n",
    "        print(name +\",You are severely obese.\")\n",
    "    else:\n",
    "        print(name +\",You are morbidly obese\")\n",
    "else:\n",
    "    print(\"Enter valid input\")"
   ]
  },
  {
   "cell_type": "code",
   "execution_count": 5,
   "id": "e639712d",
   "metadata": {},
   "outputs": [
    {
     "name": "stdout",
     "output_type": "stream",
     "text": [
      "150\n"
     ]
    }
   ],
   "source": [
    "print(weight)"
   ]
  },
  {
   "cell_type": "code",
   "execution_count": null,
   "id": "f65f3823",
   "metadata": {},
   "outputs": [],
   "source": []
  },
  {
   "cell_type": "code",
   "execution_count": null,
   "id": "cf5dc843",
   "metadata": {},
   "outputs": [],
   "source": []
  },
  {
   "cell_type": "code",
   "execution_count": null,
   "id": "d0763133",
   "metadata": {},
   "outputs": [],
   "source": [
    "#BMI = (weight in pounds x 703) / (height in inches x height in inches)"
   ]
  },
  {
   "cell_type": "code",
   "execution_count": null,
   "id": "5117c526",
   "metadata": {},
   "outputs": [],
   "source": [
    "print(weight)"
   ]
  },
  {
   "cell_type": "code",
   "execution_count": 14,
   "id": "3a4e4779",
   "metadata": {},
   "outputs": [
    {
     "name": "stdout",
     "output_type": "stream",
     "text": [
      "Ryan,You are normal weight.\n"
     ]
    }
   ],
   "source": [
    "if BMI > 0:\n",
    "    if(BMI<18.5):\n",
    "        print(name +\",You are underweight.\")\n",
    "    elif(BMI<=24.9):\n",
    "        print(name +\",You are normal weight.\")\n",
    "    elif(BMI<=29.9):\n",
    "        print(name +\",You are overweight.\")\n",
    "    elif(BMI<=34.9):\n",
    "        print(name +\",You are obese.\")\n",
    "    elif(BMI<=39.9):\n",
    "        print(name +\",You are severely obese.\")\n",
    "    else:\n",
    "        print(name +\",You are morbidly obese\")\n",
    "else:\n",
    "    print(\"Enter valid input\")"
   ]
  },
  {
   "cell_type": "code",
   "execution_count": null,
   "id": "0b43afc7",
   "metadata": {},
   "outputs": [],
   "source": []
  },
  {
   "cell_type": "code",
   "execution_count": null,
   "id": "dd5c9cfd",
   "metadata": {},
   "outputs": [],
   "source": []
  },
  {
   "cell_type": "code",
   "execution_count": null,
   "id": "4750cfac",
   "metadata": {},
   "outputs": [],
   "source": []
  },
  {
   "cell_type": "code",
   "execution_count": null,
   "id": "c9841480",
   "metadata": {},
   "outputs": [],
   "source": []
  },
  {
   "cell_type": "code",
   "execution_count": null,
   "id": "f7362daa",
   "metadata": {},
   "outputs": [],
   "source": []
  },
  {
   "cell_type": "code",
   "execution_count": null,
   "id": "ffd33d67",
   "metadata": {},
   "outputs": [],
   "source": []
  }
 ],
 "metadata": {
  "kernelspec": {
   "display_name": "Python 3 (ipykernel)",
   "language": "python",
   "name": "python3"
  },
  "language_info": {
   "codemirror_mode": {
    "name": "ipython",
    "version": 3
   },
   "file_extension": ".py",
   "mimetype": "text/x-python",
   "name": "python",
   "nbconvert_exporter": "python",
   "pygments_lexer": "ipython3",
   "version": "3.11.7"
  }
 },
 "nbformat": 4,
 "nbformat_minor": 5
}
